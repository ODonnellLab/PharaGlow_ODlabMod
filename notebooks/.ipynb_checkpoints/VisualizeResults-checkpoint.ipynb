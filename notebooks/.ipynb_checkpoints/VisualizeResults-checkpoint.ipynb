{
 "cells": [
  {
   "cell_type": "markdown",
   "id": "7cb0a54a-e469-4eec-a220-9f3408520624",
   "metadata": {},
   "source": [
    "# Run basic analyses on PharaGlow datasets"
   ]
  },
  {
   "cell_type": "code",
   "execution_count": null,
   "id": "c6789c2c-3bbe-4b07-98ef-d077d6403252",
   "metadata": {},
   "outputs": [],
   "source": [
    "%matplotlib inline\n",
    "import numpy as np\n",
    "import os\n",
    "import pandas as pd\n",
    "import shutil\n",
    "import timeit\n",
    "from datetime import date\n",
    "\n",
    "# plotting\n",
    "import matplotlib  as mpl \n",
    "import matplotlib.pyplot as plt \n",
    "\n",
    "#our packages\n",
    "import pharaglow\n",
    "from pharaglow import tracking, run, features, util, io, extract"
   ]
  },
  {
   "cell_type": "code",
   "execution_count": null,
   "id": "9c610f5c-8d59-4494-bf38-7e1565d968f1",
   "metadata": {},
   "outputs": [],
   "source": [
    "def run_behavior_extraction(traj, fps = 30):\n",
    "    \"\"\"Extract velocity, pumping events, reversals from raw tracks.\"\"\"\n",
    "    traj = extract.calculate_time(traj, fps)\n",
    "    traj = extract.calculate_locations(traj, scale)\n",
    "    traj = extract.calculate_velocity(traj, scale, fps, dt = 1)\n",
    "    traj = extract.preprocess_signal(traj, key='pumps', w_outlier=300, w_bg=300, w_smooth=2)\n",
    "    traj = extract.calculate_pumps(traj, min_distance=5, sensitivity=0.999, adaptive_window=300, min_prominence = 0.2, key = 'pumps_clean', use_pyampd = True, fps=fps)\n",
    "    traj = extract.calculate_reversals_nose(traj, dt =5, angle_threshold = 150, w_smooth = 30, min_duration = 30)\n",
    "    traj = traj.filter([ 'time', 'x_scaled',\n",
    "       'y_scaled', 'velocity',  'rate', 'pump_events',\n",
    "        'reversals_nose', 'reversal_events_nose'])\n",
    "    return traj\n",
    "\n",
    "def timeseries(traj):\n",
    "    f, axes = plt.subplots(3,1, figsize=(8,8))\n",
    "    axes[0].plot(traj.time, traj.velocity, color='0.8')\n",
    "    axes[0].plot(traj.time, traj.velocity.rolling(fps, center=True).mean())\n",
    "    axes[1].plot(traj.time, traj.rate, color='0.8')\n",
    "    axes[1].plot(traj.time, traj.rate.rolling(fps, center=True).mean())\n",
    "    axes[2].plot(traj.time, traj.reversals_nose)\n",
    "\n",
    "    plt.setp(axes[3:], xlabel =\"time (s)\")\n",
    "    axes[0].set_ylabel('velocity (um/s)')\n",
    "    axes[1].set_ylabel('pumping rate (1/s)')\n",
    "    axes[2].set_ylabel('reversals')\n",
    "    axes[2].set_ylim(-0.1, 1.1)\n",
    "    return f, axes\n",
    "\n",
    "def summary_stats(data):\n",
    "    means = {}\n",
    "    for key in data:\n",
    "        means[key] = data[key].mean()\n",
    "    return pd.DataFrame(means).T\n",
    "\n",
    "def plot_summary_stats(stats):\n",
    "    f, axes = plt.subplots(1,3, figsize=(8,8))\n",
    "    \n",
    "    \n",
    "    "
   ]
  },
  {
   "cell_type": "markdown",
   "id": "e94818f0-3dcf-477a-8842-77cc0f39d2f1",
   "metadata": {},
   "source": [
    "## Setup"
   ]
  },
  {
   "cell_type": "code",
   "execution_count": null,
   "id": "9289376e-ce7a-42fa-ba39-d9b1903dfb33",
   "metadata": {},
   "outputs": [],
   "source": [
    "columns = ['x', 'y', 'pumps', 'frame', 'Centerline']\n",
    "parameterfile = \"../AnalysisParameters_1x\"\n",
    "inPath = \"/home/mscholz/Dropbox (Scholz Lab)/Shared/Data/MS0006_0_1000frames\"\n",
    "outPath = \"/home/mscholz/Desktop/TestOutput_MS0006/\"\n",
    "movie = \"MS0006_0_1000frames\"\n",
    "fps = 30 # frame rate in 1/sec\n",
    "scale = 2.34 # in um/px or other units, then all scales will be unit/framerateunit"
   ]
  },
  {
   "cell_type": "markdown",
   "id": "7e113602-c50f-4347-a8a5-659c871a25c6",
   "metadata": {},
   "source": [
    "## Load data and run behavior extraction"
   ]
  },
  {
   "cell_type": "code",
   "execution_count": null,
   "id": "c57da90c-d71f-44f4-81c6-8f30cd7e77e1",
   "metadata": {},
   "outputs": [],
   "source": [
    "all_datasets = {}\n",
    "# analyze all trajectories - velocity, reversal, pumping\n",
    "for fn in os.listdir(outPath):\n",
    "    file = os.path.join(outPath,fn)\n",
    "    if os.path.isfile(file) and f'{movie}_results_' in fn and fn.endswith('.json'):\n",
    "        particle_index = int(fn.split('.')[0].split('_')[-1])\n",
    "        print(f'Loading worm {particle_index}')\n",
    "        traj =  io.load(file, orient='split')\n",
    "        traj = traj.filter(columns)\n",
    "        # calculate behaviors\n",
    "        traj = run_behavior_extraction(traj)\n",
    "        all_datasets[particle_index]= traj"
   ]
  },
  {
   "cell_type": "markdown",
   "id": "42224b5f-d8c4-4ddc-be37-8b5ff4d1ceed",
   "metadata": {},
   "source": [
    "## Visualize"
   ]
  },
  {
   "cell_type": "code",
   "execution_count": null,
   "id": "86ee159d-9908-4a5c-ba25-da974c476639",
   "metadata": {},
   "outputs": [],
   "source": [
    "traj = all_datasets[1]"
   ]
  },
  {
   "cell_type": "markdown",
   "id": "5e899d09-bfcf-4d35-ae49-13722d0a6015",
   "metadata": {},
   "source": [
    "### Pick an example worm to show timeseries of data"
   ]
  },
  {
   "cell_type": "code",
   "execution_count": null,
   "id": "fa03988a-a404-4b72-9fd8-63b7d651fc28",
   "metadata": {},
   "outputs": [],
   "source": [
    "timeseries(traj);"
   ]
  },
  {
   "cell_type": "markdown",
   "id": "74ca37bb-5f21-4bb4-94b7-3c0accbb8b25",
   "metadata": {},
   "source": [
    "### Population means"
   ]
  },
  {
   "cell_type": "code",
   "execution_count": null,
   "id": "63489f86-195c-439b-a235-e6b83bc7f753",
   "metadata": {},
   "outputs": [],
   "source": [
    "means = summary_stats(all_datasets)"
   ]
  },
  {
   "cell_type": "code",
   "execution_count": null,
   "id": "3e47a431-20f8-450f-8635-f689db05d6fa",
   "metadata": {},
   "outputs": [],
   "source": [
    "f, axes = plt.subplots(1,3, figsize=(8,4))\n",
    "x = np.ones(len(means))-0.33*(2*np.random.rand(len(means))-2)\n",
    "axes[0].boxplot(means['velocity'])\n",
    "axes[0].scatter(x, means['velocity'])\n",
    "axes[1].boxplot(means['rate'])\n",
    "axes[1].scatter(x, means['rate'])\n",
    "axes[2].boxplot(means['reversals_nose'])\n",
    "axes[2].scatter(x, means['reversals_nose'])\n",
    "plt.setp(axes, xlim=(0.5,1.5), xlabel = f'N = {len(means)}')\n",
    "plt.setp(axes[0], ylabel = 'velocity (um/s)', ylim=(0,200))\n",
    "plt.setp(axes[1], ylabel = 'pumping rate (1/s)', ylim = (0,5))\n",
    "plt.setp(axes[2], ylabel = 'reversals (%)', ylim = (-0.1,1))\n",
    "\n",
    "plt.tight_layout()"
   ]
  },
  {
   "cell_type": "markdown",
   "id": "a55a00fb-3ea1-482e-acfe-71e3ec66ee2a",
   "metadata": {},
   "source": [
    "### Trajectories"
   ]
  },
  {
   "cell_type": "code",
   "execution_count": null,
   "id": "bb0d740f-fe26-4378-b720-63524c20a1f6",
   "metadata": {},
   "outputs": [],
   "source": [
    "n = int(np.sqrt(len(all_datasets)))\n",
    "f, axes = plt.subplots(n+1,n, figsize=(18,18))\n",
    "axes = axes.ravel()\n",
    "for ki, key in enumerate(all_datasets):\n",
    "    axes[ki].plot(all_datasets[key].x_scaled/1000, all_datasets[key].y_scaled/1000)\n",
    "plt.setp(axes, aspect=1, xlabel='x (um)', ylabel='y (um)');"
   ]
  },
  {
   "cell_type": "code",
   "execution_count": null,
   "id": "bca38848-a6d9-4d1d-b9dc-e3ac63668562",
   "metadata": {},
   "outputs": [],
   "source": []
  }
 ],
 "metadata": {
  "kernelspec": {
   "display_name": "Python (basic)",
   "language": "python",
   "name": "basic"
  },
  "language_info": {
   "codemirror_mode": {
    "name": "ipython",
    "version": 3
   },
   "file_extension": ".py",
   "mimetype": "text/x-python",
   "name": "python",
   "nbconvert_exporter": "python",
   "pygments_lexer": "ipython3",
   "version": "3.7.8"
  }
 },
 "nbformat": 4,
 "nbformat_minor": 5
}
